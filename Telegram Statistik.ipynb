{
 "cells": [
  {
   "cell_type": "code",
   "execution_count": 3,
   "metadata": {},
   "outputs": [],
   "source": [
    "import json\n",
    "import pandas as pd"
   ]
  },
  {
   "cell_type": "code",
   "execution_count": 10,
   "metadata": {},
   "outputs": [],
   "source": [
    "with open(\"../result.json\") as json_file:\n",
    "    data = json.load(json_file)"
   ]
  },
  {
   "cell_type": "code",
   "execution_count": 12,
   "metadata": {},
   "outputs": [],
   "source": [
    "df = pd.DataFrame(data)"
   ]
  },
  {
   "cell_type": "code",
   "execution_count": 13,
   "metadata": {},
   "outputs": [
    {
     "data": {
      "text/html": [
       "<div>\n",
       "<style scoped>\n",
       "    .dataframe tbody tr th:only-of-type {\n",
       "        vertical-align: middle;\n",
       "    }\n",
       "\n",
       "    .dataframe tbody tr th {\n",
       "        vertical-align: top;\n",
       "    }\n",
       "\n",
       "    .dataframe thead th {\n",
       "        text-align: right;\n",
       "    }\n",
       "</style>\n",
       "<table border=\"1\" class=\"dataframe\">\n",
       "  <thead>\n",
       "    <tr style=\"text-align: right;\">\n",
       "      <th></th>\n",
       "      <th>name</th>\n",
       "      <th>type</th>\n",
       "      <th>id</th>\n",
       "      <th>messages</th>\n",
       "    </tr>\n",
       "  </thead>\n",
       "  <tbody>\n",
       "    <tr>\n",
       "      <th>0</th>\n",
       "      <td>༼ ༎ຶ ෴ ༎ຶ༽</td>\n",
       "      <td>personal_chat</td>\n",
       "      <td>5293363638</td>\n",
       "      <td>{'id': 29762, 'type': 'message', 'date': '2020...</td>\n",
       "    </tr>\n",
       "    <tr>\n",
       "      <th>1</th>\n",
       "      <td>༼ ༎ຶ ෴ ༎ຶ༽</td>\n",
       "      <td>personal_chat</td>\n",
       "      <td>5293363638</td>\n",
       "      <td>{'id': 29763, 'type': 'message', 'date': '2020...</td>\n",
       "    </tr>\n",
       "    <tr>\n",
       "      <th>2</th>\n",
       "      <td>༼ ༎ຶ ෴ ༎ຶ༽</td>\n",
       "      <td>personal_chat</td>\n",
       "      <td>5293363638</td>\n",
       "      <td>{'id': 29764, 'type': 'message', 'date': '2020...</td>\n",
       "    </tr>\n",
       "    <tr>\n",
       "      <th>3</th>\n",
       "      <td>༼ ༎ຶ ෴ ༎ຶ༽</td>\n",
       "      <td>personal_chat</td>\n",
       "      <td>5293363638</td>\n",
       "      <td>{'id': 29765, 'type': 'message', 'date': '2020...</td>\n",
       "    </tr>\n",
       "    <tr>\n",
       "      <th>4</th>\n",
       "      <td>༼ ༎ຶ ෴ ༎ຶ༽</td>\n",
       "      <td>personal_chat</td>\n",
       "      <td>5293363638</td>\n",
       "      <td>{'id': 29766, 'type': 'message', 'date': '2020...</td>\n",
       "    </tr>\n",
       "    <tr>\n",
       "      <th>...</th>\n",
       "      <td>...</td>\n",
       "      <td>...</td>\n",
       "      <td>...</td>\n",
       "      <td>...</td>\n",
       "    </tr>\n",
       "    <tr>\n",
       "      <th>2603</th>\n",
       "      <td>༼ ༎ຶ ෴ ༎ຶ༽</td>\n",
       "      <td>personal_chat</td>\n",
       "      <td>5293363638</td>\n",
       "      <td>{'id': 36591, 'type': 'message', 'date': '2021...</td>\n",
       "    </tr>\n",
       "    <tr>\n",
       "      <th>2604</th>\n",
       "      <td>༼ ༎ຶ ෴ ༎ຶ༽</td>\n",
       "      <td>personal_chat</td>\n",
       "      <td>5293363638</td>\n",
       "      <td>{'id': 36592, 'type': 'message', 'date': '2021...</td>\n",
       "    </tr>\n",
       "    <tr>\n",
       "      <th>2605</th>\n",
       "      <td>༼ ༎ຶ ෴ ༎ຶ༽</td>\n",
       "      <td>personal_chat</td>\n",
       "      <td>5293363638</td>\n",
       "      <td>{'id': 36593, 'type': 'message', 'date': '2021...</td>\n",
       "    </tr>\n",
       "    <tr>\n",
       "      <th>2606</th>\n",
       "      <td>༼ ༎ຶ ෴ ༎ຶ༽</td>\n",
       "      <td>personal_chat</td>\n",
       "      <td>5293363638</td>\n",
       "      <td>{'id': 36594, 'type': 'message', 'date': '2021...</td>\n",
       "    </tr>\n",
       "    <tr>\n",
       "      <th>2607</th>\n",
       "      <td>༼ ༎ຶ ෴ ༎ຶ༽</td>\n",
       "      <td>personal_chat</td>\n",
       "      <td>5293363638</td>\n",
       "      <td>{'id': 36595, 'type': 'message', 'date': '2021...</td>\n",
       "    </tr>\n",
       "  </tbody>\n",
       "</table>\n",
       "<p>2608 rows × 4 columns</p>\n",
       "</div>"
      ],
      "text/plain": [
       "            name           type          id  \\\n",
       "0     ༼ ༎ຶ ෴ ༎ຶ༽  personal_chat  5293363638   \n",
       "1     ༼ ༎ຶ ෴ ༎ຶ༽  personal_chat  5293363638   \n",
       "2     ༼ ༎ຶ ෴ ༎ຶ༽  personal_chat  5293363638   \n",
       "3     ༼ ༎ຶ ෴ ༎ຶ༽  personal_chat  5293363638   \n",
       "4     ༼ ༎ຶ ෴ ༎ຶ༽  personal_chat  5293363638   \n",
       "...          ...            ...         ...   \n",
       "2603  ༼ ༎ຶ ෴ ༎ຶ༽  personal_chat  5293363638   \n",
       "2604  ༼ ༎ຶ ෴ ༎ຶ༽  personal_chat  5293363638   \n",
       "2605  ༼ ༎ຶ ෴ ༎ຶ༽  personal_chat  5293363638   \n",
       "2606  ༼ ༎ຶ ෴ ༎ຶ༽  personal_chat  5293363638   \n",
       "2607  ༼ ༎ຶ ෴ ༎ຶ༽  personal_chat  5293363638   \n",
       "\n",
       "                                               messages  \n",
       "0     {'id': 29762, 'type': 'message', 'date': '2020...  \n",
       "1     {'id': 29763, 'type': 'message', 'date': '2020...  \n",
       "2     {'id': 29764, 'type': 'message', 'date': '2020...  \n",
       "3     {'id': 29765, 'type': 'message', 'date': '2020...  \n",
       "4     {'id': 29766, 'type': 'message', 'date': '2020...  \n",
       "...                                                 ...  \n",
       "2603  {'id': 36591, 'type': 'message', 'date': '2021...  \n",
       "2604  {'id': 36592, 'type': 'message', 'date': '2021...  \n",
       "2605  {'id': 36593, 'type': 'message', 'date': '2021...  \n",
       "2606  {'id': 36594, 'type': 'message', 'date': '2021...  \n",
       "2607  {'id': 36595, 'type': 'message', 'date': '2021...  \n",
       "\n",
       "[2608 rows x 4 columns]"
      ]
     },
     "execution_count": 13,
     "metadata": {},
     "output_type": "execute_result"
    }
   ],
   "source": [
    "df"
   ]
  },
  {
   "cell_type": "code",
   "execution_count": 32,
   "metadata": {},
   "outputs": [
    {
     "data": {
      "text/plain": [
       "0       {'id': 29762, 'type': 'message', 'date': '2020...\n",
       "1       {'id': 29763, 'type': 'message', 'date': '2020...\n",
       "2       {'id': 29764, 'type': 'message', 'date': '2020...\n",
       "3       {'id': 29765, 'type': 'message', 'date': '2020...\n",
       "4       {'id': 29766, 'type': 'message', 'date': '2020...\n",
       "                              ...                        \n",
       "2603    {'id': 36591, 'type': 'message', 'date': '2021...\n",
       "2604    {'id': 36592, 'type': 'message', 'date': '2021...\n",
       "2605    {'id': 36593, 'type': 'message', 'date': '2021...\n",
       "2606    {'id': 36594, 'type': 'message', 'date': '2021...\n",
       "2607    {'id': 36595, 'type': 'message', 'date': '2021...\n",
       "Name: messages, Length: 2608, dtype: object"
      ]
     },
     "execution_count": 32,
     "metadata": {},
     "output_type": "execute_result"
    }
   ],
   "source": [
    "df['messages']"
   ]
  },
  {
   "cell_type": "code",
   "execution_count": 34,
   "metadata": {},
   "outputs": [
    {
     "data": {
      "text/plain": [
       "0       {'id': 29762, 'type': 'message', 'date': '2020...\n",
       "1       {'id': 29763, 'type': 'message', 'date': '2020...\n",
       "2       {'id': 29764, 'type': 'message', 'date': '2020...\n",
       "3       {'id': 29765, 'type': 'message', 'date': '2020...\n",
       "4       {'id': 29766, 'type': 'message', 'date': '2020...\n",
       "                              ...                        \n",
       "2603    {'id': 36591, 'type': 'message', 'date': '2021...\n",
       "2604    {'id': 36592, 'type': 'message', 'date': '2021...\n",
       "2605    {'id': 36593, 'type': 'message', 'date': '2021...\n",
       "2606    {'id': 36594, 'type': 'message', 'date': '2021...\n",
       "2607    {'id': 36595, 'type': 'message', 'date': '2021...\n",
       "Name: messages, Length: 2608, dtype: object"
      ]
     },
     "execution_count": 34,
     "metadata": {},
     "output_type": "execute_result"
    }
   ],
   "source": [
    "df_m"
   ]
  },
  {
   "cell_type": "code",
   "execution_count": 36,
   "metadata": {},
   "outputs": [],
   "source": [
    "df_messages = df_m.apply(pd.Series)"
   ]
  },
  {
   "cell_type": "code",
   "execution_count": 38,
   "metadata": {},
   "outputs": [
    {
     "data": {
      "text/html": [
       "<div>\n",
       "<style scoped>\n",
       "    .dataframe tbody tr th:only-of-type {\n",
       "        vertical-align: middle;\n",
       "    }\n",
       "\n",
       "    .dataframe tbody tr th {\n",
       "        vertical-align: top;\n",
       "    }\n",
       "\n",
       "    .dataframe thead th {\n",
       "        text-align: right;\n",
       "    }\n",
       "</style>\n",
       "<table border=\"1\" class=\"dataframe\">\n",
       "  <thead>\n",
       "    <tr style=\"text-align: right;\">\n",
       "      <th></th>\n",
       "      <th>id</th>\n",
       "      <th>type</th>\n",
       "      <th>date</th>\n",
       "      <th>from</th>\n",
       "      <th>from_id</th>\n",
       "      <th>text</th>\n",
       "      <th>file</th>\n",
       "      <th>thumbnail</th>\n",
       "      <th>media_type</th>\n",
       "      <th>sticker_emoji</th>\n",
       "      <th>...</th>\n",
       "      <th>reply_to_message_id</th>\n",
       "      <th>actor</th>\n",
       "      <th>actor_id</th>\n",
       "      <th>action</th>\n",
       "      <th>discard_reason</th>\n",
       "      <th>photo</th>\n",
       "      <th>edited</th>\n",
       "      <th>message_id</th>\n",
       "      <th>forwarded_from</th>\n",
       "      <th>via_bot</th>\n",
       "    </tr>\n",
       "  </thead>\n",
       "  <tbody>\n",
       "    <tr>\n",
       "      <th>0</th>\n",
       "      <td>29762</td>\n",
       "      <td>message</td>\n",
       "      <td>2020-08-12T13:51:39</td>\n",
       "      <td>༼ ༎ຶ ෴ ༎ຶ༽</td>\n",
       "      <td>5.293364e+09</td>\n",
       "      <td>Heyho</td>\n",
       "      <td>NaN</td>\n",
       "      <td>NaN</td>\n",
       "      <td>NaN</td>\n",
       "      <td>NaN</td>\n",
       "      <td>...</td>\n",
       "      <td>NaN</td>\n",
       "      <td>NaN</td>\n",
       "      <td>NaN</td>\n",
       "      <td>NaN</td>\n",
       "      <td>NaN</td>\n",
       "      <td>NaN</td>\n",
       "      <td>NaN</td>\n",
       "      <td>NaN</td>\n",
       "      <td>NaN</td>\n",
       "      <td>NaN</td>\n",
       "    </tr>\n",
       "    <tr>\n",
       "      <th>1</th>\n",
       "      <td>29763</td>\n",
       "      <td>message</td>\n",
       "      <td>2020-08-12T13:51:54</td>\n",
       "      <td>Sonja H.</td>\n",
       "      <td>4.685444e+09</td>\n",
       "      <td></td>\n",
       "      <td>(File not included. Change data exporting sett...</td>\n",
       "      <td>(File not included. Change data exporting sett...</td>\n",
       "      <td>sticker</td>\n",
       "      <td>👍</td>\n",
       "      <td>...</td>\n",
       "      <td>NaN</td>\n",
       "      <td>NaN</td>\n",
       "      <td>NaN</td>\n",
       "      <td>NaN</td>\n",
       "      <td>NaN</td>\n",
       "      <td>NaN</td>\n",
       "      <td>NaN</td>\n",
       "      <td>NaN</td>\n",
       "      <td>NaN</td>\n",
       "      <td>NaN</td>\n",
       "    </tr>\n",
       "    <tr>\n",
       "      <th>2</th>\n",
       "      <td>29764</td>\n",
       "      <td>message</td>\n",
       "      <td>2020-08-12T13:52:23</td>\n",
       "      <td>༼ ༎ຶ ෴ ༎ຶ༽</td>\n",
       "      <td>5.293364e+09</td>\n",
       "      <td></td>\n",
       "      <td>(File not included. Change data exporting sett...</td>\n",
       "      <td>(File not included. Change data exporting sett...</td>\n",
       "      <td>sticker</td>\n",
       "      <td>👌</td>\n",
       "      <td>...</td>\n",
       "      <td>NaN</td>\n",
       "      <td>NaN</td>\n",
       "      <td>NaN</td>\n",
       "      <td>NaN</td>\n",
       "      <td>NaN</td>\n",
       "      <td>NaN</td>\n",
       "      <td>NaN</td>\n",
       "      <td>NaN</td>\n",
       "      <td>NaN</td>\n",
       "      <td>NaN</td>\n",
       "    </tr>\n",
       "    <tr>\n",
       "      <th>3</th>\n",
       "      <td>29765</td>\n",
       "      <td>message</td>\n",
       "      <td>2020-08-12T13:52:39</td>\n",
       "      <td>༼ ༎ຶ ෴ ༎ຶ༽</td>\n",
       "      <td>5.293364e+09</td>\n",
       "      <td></td>\n",
       "      <td>(File not included. Change data exporting sett...</td>\n",
       "      <td>(File not included. Change data exporting sett...</td>\n",
       "      <td>sticker</td>\n",
       "      <td>😆</td>\n",
       "      <td>...</td>\n",
       "      <td>NaN</td>\n",
       "      <td>NaN</td>\n",
       "      <td>NaN</td>\n",
       "      <td>NaN</td>\n",
       "      <td>NaN</td>\n",
       "      <td>NaN</td>\n",
       "      <td>NaN</td>\n",
       "      <td>NaN</td>\n",
       "      <td>NaN</td>\n",
       "      <td>NaN</td>\n",
       "    </tr>\n",
       "    <tr>\n",
       "      <th>4</th>\n",
       "      <td>29766</td>\n",
       "      <td>message</td>\n",
       "      <td>2020-08-12T13:54:24</td>\n",
       "      <td>༼ ༎ຶ ෴ ༎ຶ༽</td>\n",
       "      <td>5.293364e+09</td>\n",
       "      <td></td>\n",
       "      <td>(File not included. Change data exporting sett...</td>\n",
       "      <td>(File not included. Change data exporting sett...</td>\n",
       "      <td>sticker</td>\n",
       "      <td>😘</td>\n",
       "      <td>...</td>\n",
       "      <td>NaN</td>\n",
       "      <td>NaN</td>\n",
       "      <td>NaN</td>\n",
       "      <td>NaN</td>\n",
       "      <td>NaN</td>\n",
       "      <td>NaN</td>\n",
       "      <td>NaN</td>\n",
       "      <td>NaN</td>\n",
       "      <td>NaN</td>\n",
       "      <td>NaN</td>\n",
       "    </tr>\n",
       "    <tr>\n",
       "      <th>...</th>\n",
       "      <td>...</td>\n",
       "      <td>...</td>\n",
       "      <td>...</td>\n",
       "      <td>...</td>\n",
       "      <td>...</td>\n",
       "      <td>...</td>\n",
       "      <td>...</td>\n",
       "      <td>...</td>\n",
       "      <td>...</td>\n",
       "      <td>...</td>\n",
       "      <td>...</td>\n",
       "      <td>...</td>\n",
       "      <td>...</td>\n",
       "      <td>...</td>\n",
       "      <td>...</td>\n",
       "      <td>...</td>\n",
       "      <td>...</td>\n",
       "      <td>...</td>\n",
       "      <td>...</td>\n",
       "      <td>...</td>\n",
       "      <td>...</td>\n",
       "    </tr>\n",
       "    <tr>\n",
       "      <th>2603</th>\n",
       "      <td>36591</td>\n",
       "      <td>message</td>\n",
       "      <td>2021-02-14T15:53:03</td>\n",
       "      <td>Sonja H.</td>\n",
       "      <td>4.685444e+09</td>\n",
       "      <td>Du hast da ja auch schon gutes Material zu beiden</td>\n",
       "      <td>NaN</td>\n",
       "      <td>NaN</td>\n",
       "      <td>NaN</td>\n",
       "      <td>NaN</td>\n",
       "      <td>...</td>\n",
       "      <td>NaN</td>\n",
       "      <td>NaN</td>\n",
       "      <td>NaN</td>\n",
       "      <td>NaN</td>\n",
       "      <td>NaN</td>\n",
       "      <td>NaN</td>\n",
       "      <td>NaN</td>\n",
       "      <td>NaN</td>\n",
       "      <td>NaN</td>\n",
       "      <td>NaN</td>\n",
       "    </tr>\n",
       "    <tr>\n",
       "      <th>2604</th>\n",
       "      <td>36592</td>\n",
       "      <td>message</td>\n",
       "      <td>2021-02-14T15:53:28</td>\n",
       "      <td>༼ ༎ຶ ෴ ༎ຶ༽</td>\n",
       "      <td>5.293364e+09</td>\n",
       "      <td>yup^^</td>\n",
       "      <td>NaN</td>\n",
       "      <td>NaN</td>\n",
       "      <td>NaN</td>\n",
       "      <td>NaN</td>\n",
       "      <td>...</td>\n",
       "      <td>NaN</td>\n",
       "      <td>NaN</td>\n",
       "      <td>NaN</td>\n",
       "      <td>NaN</td>\n",
       "      <td>NaN</td>\n",
       "      <td>NaN</td>\n",
       "      <td>NaN</td>\n",
       "      <td>NaN</td>\n",
       "      <td>NaN</td>\n",
       "      <td>NaN</td>\n",
       "    </tr>\n",
       "    <tr>\n",
       "      <th>2605</th>\n",
       "      <td>36593</td>\n",
       "      <td>message</td>\n",
       "      <td>2021-02-14T15:53:30</td>\n",
       "      <td>Sonja H.</td>\n",
       "      <td>4.685444e+09</td>\n",
       "      <td>Ist dann für die Dokumentation auch schön</td>\n",
       "      <td>NaN</td>\n",
       "      <td>NaN</td>\n",
       "      <td>NaN</td>\n",
       "      <td>NaN</td>\n",
       "      <td>...</td>\n",
       "      <td>NaN</td>\n",
       "      <td>NaN</td>\n",
       "      <td>NaN</td>\n",
       "      <td>NaN</td>\n",
       "      <td>NaN</td>\n",
       "      <td>NaN</td>\n",
       "      <td>NaN</td>\n",
       "      <td>NaN</td>\n",
       "      <td>NaN</td>\n",
       "      <td>NaN</td>\n",
       "    </tr>\n",
       "    <tr>\n",
       "      <th>2606</th>\n",
       "      <td>36594</td>\n",
       "      <td>message</td>\n",
       "      <td>2021-02-14T15:53:41</td>\n",
       "      <td>༼ ༎ຶ ෴ ༎ຶ༽</td>\n",
       "      <td>5.293364e+09</td>\n",
       "      <td>Yup :)</td>\n",
       "      <td>NaN</td>\n",
       "      <td>NaN</td>\n",
       "      <td>NaN</td>\n",
       "      <td>NaN</td>\n",
       "      <td>...</td>\n",
       "      <td>NaN</td>\n",
       "      <td>NaN</td>\n",
       "      <td>NaN</td>\n",
       "      <td>NaN</td>\n",
       "      <td>NaN</td>\n",
       "      <td>NaN</td>\n",
       "      <td>NaN</td>\n",
       "      <td>NaN</td>\n",
       "      <td>NaN</td>\n",
       "      <td>NaN</td>\n",
       "    </tr>\n",
       "    <tr>\n",
       "      <th>2607</th>\n",
       "      <td>36595</td>\n",
       "      <td>message</td>\n",
       "      <td>2021-02-14T15:53:58</td>\n",
       "      <td>༼ ༎ຶ ෴ ༎ຶ༽</td>\n",
       "      <td>5.293364e+09</td>\n",
       "      <td>moment, brb</td>\n",
       "      <td>NaN</td>\n",
       "      <td>NaN</td>\n",
       "      <td>NaN</td>\n",
       "      <td>NaN</td>\n",
       "      <td>...</td>\n",
       "      <td>NaN</td>\n",
       "      <td>NaN</td>\n",
       "      <td>NaN</td>\n",
       "      <td>NaN</td>\n",
       "      <td>NaN</td>\n",
       "      <td>NaN</td>\n",
       "      <td>NaN</td>\n",
       "      <td>NaN</td>\n",
       "      <td>NaN</td>\n",
       "      <td>NaN</td>\n",
       "    </tr>\n",
       "  </tbody>\n",
       "</table>\n",
       "<p>2608 rows × 24 columns</p>\n",
       "</div>"
      ],
      "text/plain": [
       "         id     type                 date        from       from_id  \\\n",
       "0     29762  message  2020-08-12T13:51:39  ༼ ༎ຶ ෴ ༎ຶ༽  5.293364e+09   \n",
       "1     29763  message  2020-08-12T13:51:54    Sonja H.  4.685444e+09   \n",
       "2     29764  message  2020-08-12T13:52:23  ༼ ༎ຶ ෴ ༎ຶ༽  5.293364e+09   \n",
       "3     29765  message  2020-08-12T13:52:39  ༼ ༎ຶ ෴ ༎ຶ༽  5.293364e+09   \n",
       "4     29766  message  2020-08-12T13:54:24  ༼ ༎ຶ ෴ ༎ຶ༽  5.293364e+09   \n",
       "...     ...      ...                  ...         ...           ...   \n",
       "2603  36591  message  2021-02-14T15:53:03    Sonja H.  4.685444e+09   \n",
       "2604  36592  message  2021-02-14T15:53:28  ༼ ༎ຶ ෴ ༎ຶ༽  5.293364e+09   \n",
       "2605  36593  message  2021-02-14T15:53:30    Sonja H.  4.685444e+09   \n",
       "2606  36594  message  2021-02-14T15:53:41  ༼ ༎ຶ ෴ ༎ຶ༽  5.293364e+09   \n",
       "2607  36595  message  2021-02-14T15:53:58  ༼ ༎ຶ ෴ ༎ຶ༽  5.293364e+09   \n",
       "\n",
       "                                                   text  \\\n",
       "0                                                 Heyho   \n",
       "1                                                         \n",
       "2                                                         \n",
       "3                                                         \n",
       "4                                                         \n",
       "...                                                 ...   \n",
       "2603  Du hast da ja auch schon gutes Material zu beiden   \n",
       "2604                                              yup^^   \n",
       "2605          Ist dann für die Dokumentation auch schön   \n",
       "2606                                             Yup :)   \n",
       "2607                                        moment, brb   \n",
       "\n",
       "                                                   file  \\\n",
       "0                                                   NaN   \n",
       "1     (File not included. Change data exporting sett...   \n",
       "2     (File not included. Change data exporting sett...   \n",
       "3     (File not included. Change data exporting sett...   \n",
       "4     (File not included. Change data exporting sett...   \n",
       "...                                                 ...   \n",
       "2603                                                NaN   \n",
       "2604                                                NaN   \n",
       "2605                                                NaN   \n",
       "2606                                                NaN   \n",
       "2607                                                NaN   \n",
       "\n",
       "                                              thumbnail media_type  \\\n",
       "0                                                   NaN        NaN   \n",
       "1     (File not included. Change data exporting sett...    sticker   \n",
       "2     (File not included. Change data exporting sett...    sticker   \n",
       "3     (File not included. Change data exporting sett...    sticker   \n",
       "4     (File not included. Change data exporting sett...    sticker   \n",
       "...                                                 ...        ...   \n",
       "2603                                                NaN        NaN   \n",
       "2604                                                NaN        NaN   \n",
       "2605                                                NaN        NaN   \n",
       "2606                                                NaN        NaN   \n",
       "2607                                                NaN        NaN   \n",
       "\n",
       "     sticker_emoji  ...  reply_to_message_id  actor actor_id  action  \\\n",
       "0              NaN  ...                  NaN    NaN      NaN     NaN   \n",
       "1                👍  ...                  NaN    NaN      NaN     NaN   \n",
       "2                👌  ...                  NaN    NaN      NaN     NaN   \n",
       "3                😆  ...                  NaN    NaN      NaN     NaN   \n",
       "4                😘  ...                  NaN    NaN      NaN     NaN   \n",
       "...            ...  ...                  ...    ...      ...     ...   \n",
       "2603           NaN  ...                  NaN    NaN      NaN     NaN   \n",
       "2604           NaN  ...                  NaN    NaN      NaN     NaN   \n",
       "2605           NaN  ...                  NaN    NaN      NaN     NaN   \n",
       "2606           NaN  ...                  NaN    NaN      NaN     NaN   \n",
       "2607           NaN  ...                  NaN    NaN      NaN     NaN   \n",
       "\n",
       "      discard_reason photo  edited message_id forwarded_from via_bot  \n",
       "0                NaN   NaN     NaN        NaN            NaN     NaN  \n",
       "1                NaN   NaN     NaN        NaN            NaN     NaN  \n",
       "2                NaN   NaN     NaN        NaN            NaN     NaN  \n",
       "3                NaN   NaN     NaN        NaN            NaN     NaN  \n",
       "4                NaN   NaN     NaN        NaN            NaN     NaN  \n",
       "...              ...   ...     ...        ...            ...     ...  \n",
       "2603             NaN   NaN     NaN        NaN            NaN     NaN  \n",
       "2604             NaN   NaN     NaN        NaN            NaN     NaN  \n",
       "2605             NaN   NaN     NaN        NaN            NaN     NaN  \n",
       "2606             NaN   NaN     NaN        NaN            NaN     NaN  \n",
       "2607             NaN   NaN     NaN        NaN            NaN     NaN  \n",
       "\n",
       "[2608 rows x 24 columns]"
      ]
     },
     "execution_count": 38,
     "metadata": {},
     "output_type": "execute_result"
    }
   ],
   "source": [
    "df_messages"
   ]
  },
  {
   "cell_type": "code",
   "execution_count": 60,
   "metadata": {},
   "outputs": [
    {
     "data": {
      "text/plain": [
       "array(['message', 'service'], dtype=object)"
      ]
     },
     "execution_count": 60,
     "metadata": {},
     "output_type": "execute_result"
    }
   ],
   "source": [
    "df_messages['type'].unique()"
   ]
  },
  {
   "cell_type": "markdown",
   "metadata": {},
   "source": [
    "### Get the duration of all the phone calls on Telegram"
   ]
  },
  {
   "cell_type": "code",
   "execution_count": 43,
   "metadata": {},
   "outputs": [],
   "source": [
    "#type = 'service'\n",
    "# duration_seconds = int\n",
    "durations = df_messages[df_messages['type']=='service']['duration_seconds']"
   ]
  },
  {
   "cell_type": "code",
   "execution_count": 51,
   "metadata": {},
   "outputs": [],
   "source": [
    "durations = durations.dropna()"
   ]
  },
  {
   "cell_type": "code",
   "execution_count": 59,
   "metadata": {},
   "outputs": [],
   "source": [
    "# durations"
   ]
  },
  {
   "cell_type": "code",
   "execution_count": 48,
   "metadata": {},
   "outputs": [
    {
     "data": {
      "text/plain": [
       "51"
      ]
     },
     "execution_count": 48,
     "metadata": {},
     "output_type": "execute_result"
    }
   ],
   "source": [
    "#Anzahl der Telegram Calls mit Duration\n",
    "durations.count()"
   ]
  },
  {
   "cell_type": "code",
   "execution_count": 53,
   "metadata": {},
   "outputs": [],
   "source": [
    "sum_of_calls_in_sec = durations.sum()"
   ]
  },
  {
   "cell_type": "code",
   "execution_count": 54,
   "metadata": {},
   "outputs": [
    {
     "data": {
      "text/plain": [
       "92306.0"
      ]
     },
     "execution_count": 54,
     "metadata": {},
     "output_type": "execute_result"
    }
   ],
   "source": [
    "#Dauer der Telegram Calls in Sekunden\n",
    "sum_of_calls_in_sec"
   ]
  },
  {
   "cell_type": "code",
   "execution_count": 55,
   "metadata": {},
   "outputs": [],
   "source": [
    "sum_of_calls_in_min = sum_of_calls_in_sec/60"
   ]
  },
  {
   "cell_type": "code",
   "execution_count": 56,
   "metadata": {},
   "outputs": [
    {
     "data": {
      "text/plain": [
       "1538.4333333333334"
      ]
     },
     "execution_count": 56,
     "metadata": {},
     "output_type": "execute_result"
    }
   ],
   "source": [
    "#Dauer der Telegram Calls in Minuten\n",
    "sum_of_calls_in_min"
   ]
  },
  {
   "cell_type": "code",
   "execution_count": 57,
   "metadata": {},
   "outputs": [],
   "source": [
    "sum_of_calls_in_hours = sum_of_calls_in_min/60"
   ]
  },
  {
   "cell_type": "code",
   "execution_count": 58,
   "metadata": {},
   "outputs": [
    {
     "data": {
      "text/plain": [
       "25.640555555555558"
      ]
     },
     "execution_count": 58,
     "metadata": {},
     "output_type": "execute_result"
    }
   ],
   "source": [
    "#Dauer der Telegram Calls in Stunden\n",
    "sum_of_calls_in_hours"
   ]
  },
  {
   "cell_type": "markdown",
   "metadata": {},
   "source": [
    "## Get the amount of stickers we have sent each other"
   ]
  },
  {
   "cell_type": "code",
   "execution_count": 63,
   "metadata": {},
   "outputs": [
    {
     "data": {
      "text/plain": [
       "0       NaN\n",
       "1         👍\n",
       "2         👌\n",
       "3         😆\n",
       "4         😘\n",
       "       ... \n",
       "2603    NaN\n",
       "2604    NaN\n",
       "2605    NaN\n",
       "2606    NaN\n",
       "2607    NaN\n",
       "Name: sticker_emoji, Length: 2608, dtype: object"
      ]
     },
     "execution_count": 63,
     "metadata": {},
     "output_type": "execute_result"
    }
   ],
   "source": [
    "df_messages['sticker_emoji']"
   ]
  },
  {
   "cell_type": "code",
   "execution_count": 65,
   "metadata": {},
   "outputs": [],
   "source": [
    "num_emojis = df_messages['sticker_emoji'].dropna().count()"
   ]
  },
  {
   "cell_type": "code",
   "execution_count": 66,
   "metadata": {},
   "outputs": [
    {
     "data": {
      "text/plain": [
       "78"
      ]
     },
     "execution_count": 66,
     "metadata": {},
     "output_type": "execute_result"
    }
   ],
   "source": [
    "num_emojis"
   ]
  },
  {
   "cell_type": "code",
   "execution_count": 67,
   "metadata": {},
   "outputs": [],
   "source": [
    "emojis = df_messages['sticker_emoji'].dropna()"
   ]
  },
  {
   "cell_type": "code",
   "execution_count": 74,
   "metadata": {},
   "outputs": [
    {
     "data": {
      "text/plain": [
       "array(['👍', '👌', '😆', '😘', '😂', '🦠', '😉', '👊', '🚪', '☺️', '👋', '😃', '😠',\n",
       "       '🍻', '😎', '😞', '☝️', '😁', '😚', '🙈', '💩', '⏱', '😯', '🚗', '❤️', '🍺',\n",
       "       '😱', '😀', '🤔', '🔍', '🕰', '😊', '💪', '🤷\\u200d♂️', '👏', '🤦\\u200d♂️',\n",
       "       '😳', '😴', '🥳', '😧', '🤗', '😰', '🤪', '🙄'], dtype=object)"
      ]
     },
     "execution_count": 74,
     "metadata": {},
     "output_type": "execute_result"
    }
   ],
   "source": [
    "emojis.unique()"
   ]
  },
  {
   "cell_type": "code",
   "execution_count": 77,
   "metadata": {},
   "outputs": [
    {
     "data": {
      "text/plain": [
       "👍       10\n",
       "😃        6\n",
       "🤔        5\n",
       "🥳        4\n",
       "😘        4\n",
       "👌        3\n",
       "😂        3\n",
       "🙈        3\n",
       "🤗        2\n",
       "😯        2\n",
       "🦠        2\n",
       "😀        2\n",
       "🍻        1\n",
       "😱        1\n",
       "❤️       1\n",
       "👏        1\n",
       "🍺        1\n",
       "🤷‍♂️     1\n",
       "😠        1\n",
       "🕰        1\n",
       "😎        1\n",
       "😳        1\n",
       "☺️       1\n",
       "🔍        1\n",
       "🚗        1\n",
       "😰        1\n",
       "😧        1\n",
       "🚪        1\n",
       "😁        1\n",
       "😊        1\n",
       "⏱        1\n",
       "💪        1\n",
       "😆        1\n",
       "👋        1\n",
       "🤪        1\n",
       "😚        1\n",
       "😉        1\n",
       "☝️       1\n",
       "💩        1\n",
       "😞        1\n",
       "🤦‍♂️     1\n",
       "👊        1\n",
       "🙄        1\n",
       "😴        1\n",
       "Name: sticker_emoji, dtype: int64"
      ]
     },
     "execution_count": 77,
     "metadata": {},
     "output_type": "execute_result"
    }
   ],
   "source": [
    "emojis.value_counts()"
   ]
  },
  {
   "cell_type": "markdown",
   "metadata": {},
   "source": [
    "## Textanalyse"
   ]
  },
  {
   "cell_type": "code",
   "execution_count": 85,
   "metadata": {},
   "outputs": [],
   "source": [
    "import re\n",
    "import spacy 0"
   ]
  },
  {
   "cell_type": "code",
   "execution_count": 76,
   "metadata": {},
   "outputs": [
    {
     "data": {
      "text/plain": [
       "0                                                   Heyho\n",
       "1                                                        \n",
       "2                                                        \n",
       "3                                                        \n",
       "4                                                        \n",
       "                              ...                        \n",
       "2603    Du hast da ja auch schon gutes Material zu beiden\n",
       "2604                                                yup^^\n",
       "2605            Ist dann für die Dokumentation auch schön\n",
       "2606                                               Yup :)\n",
       "2607                                          moment, brb\n",
       "Name: text, Length: 2608, dtype: object"
      ]
     },
     "execution_count": 76,
     "metadata": {},
     "output_type": "execute_result"
    }
   ],
   "source": [
    "df_messages['text']"
   ]
  },
  {
   "cell_type": "code",
   "execution_count": null,
   "metadata": {},
   "outputs": [],
   "source": []
  },
  {
   "cell_type": "code",
   "execution_count": null,
   "metadata": {},
   "outputs": [],
   "source": []
  }
 ],
 "metadata": {
  "kernelspec": {
   "display_name": "Python 3",
   "language": "python",
   "name": "python3"
  },
  "language_info": {
   "codemirror_mode": {
    "name": "ipython",
    "version": 3
   },
   "file_extension": ".py",
   "mimetype": "text/x-python",
   "name": "python",
   "nbconvert_exporter": "python",
   "pygments_lexer": "ipython3",
   "version": "3.7.6"
  }
 },
 "nbformat": 4,
 "nbformat_minor": 4
}
